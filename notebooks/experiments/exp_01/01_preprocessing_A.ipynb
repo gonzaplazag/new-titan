{
 "cells": [
  {
   "cell_type": "code",
   "execution_count": 1,
   "metadata": {},
   "outputs": [],
   "source": [
    "import pandas as pd\n",
    "import pickle as pkl\n",
    "from numpy import savetxt\n",
    "from sklearn.model_selection import train_test_split\n",
    "from sklearn.preprocessing import LabelEncoder"
   ]
  },
  {
   "cell_type": "code",
   "execution_count": 2,
   "metadata": {},
   "outputs": [],
   "source": [
    "# Params\n",
    "target = 'Survived'\n",
    "features = \"Sex\"\n",
    "idx = 'Passengerid'\n",
    "\n",
    "# Paths \n",
    "label_enconder_path = \"/home/walter/Documents/personal_projects/new-titan/notebooks/experiments/exp_01/checkpoint/label_encoder.pkl\""
   ]
  },
  {
   "cell_type": "code",
   "execution_count": 3,
   "metadata": {},
   "outputs": [],
   "source": [
    "def train_label_encoder(df):\n",
    "    encoder = LabelEncoder()\n",
    "    encoder.fit(df)\n",
    "\n",
    "    enc_output = open(label_enconder_path, \"wb\")\n",
    "    pkl.dump(encoder, enc_output)\n",
    "    enc_output.close()\n",
    "\n",
    "    print(\"Encoder saved in:{}\".format(label_enconder_path))\n",
    "\n",
    "def transform_label_encoder(df):\n",
    "    pkl_file = open(label_enconder_path, 'rb')\n",
    "    encoder = pkl.load(pkl_file) \n",
    "    pkl_file.close()\n",
    "\n",
    "    res = encoder.transform(df)\n",
    "\n",
    "    return res\n",
    "\n",
    "def save_train_files():\n",
    "    savetxt('/home/walter/Documents/personal_projects/new-titan/data/processed/data_train/X_train.csv', X_train, delimiter=',')\n",
    "    savetxt('/home/walter/Documents/personal_projects/new-titan/data/processed/data_train/y_train.csv', y_train, delimiter=',')\n",
    "    savetxt('/home/walter/Documents/personal_projects/new-titan/data/processed/data_train/label_train.csv', label_train, delimiter=',')\n",
    "    savetxt('/home/walter/Documents/personal_projects/new-titan/data/processed/data_test/label_test.csv', label_test, delimiter=',')\n",
    "    savetxt('/home/walter/Documents/personal_projects/new-titan/data/processed/data_test/X_test.csv', X_test, delimiter=',')\n",
    "    savetxt('/home/walter/Documents/personal_projects/new-titan/data/processed/data_test/y_test.csv', y_test, delimiter=',')"
   ]
  },
  {
   "cell_type": "code",
   "execution_count": 4,
   "metadata": {},
   "outputs": [
    {
     "name": "stdout",
     "output_type": "stream",
     "text": [
      "Encoder saved in:/home/walter/Documents/personal_projects/new-titan/notebooks/experiments/exp_01/checkpoint/label_encoder.pkl\n"
     ]
    }
   ],
   "source": [
    "# load\n",
    "data = pd.read_csv(\"/home/walter/Documents/personal_projects/new-titan/data/raw/train.csv\", header=0)\n",
    "\n",
    "# Preprocessing\n",
    "# 1. Divide train-test\n",
    "X_train, X_test, y_train, y_test = train_test_split(data[features], data[target], test_size=0.1, random_state=100)\n",
    "label_train = data.iloc[X_train.index, 0]\n",
    "label_test = data.iloc[X_test.index, 0]\n",
    "\n",
    "# 2. encoding\n",
    "train_label_encoder(X_train)\n",
    "X_train = transform_label_encoder(X_train)\n",
    "X_test = transform_label_encoder(X_test)\n",
    "\n",
    "# Save\n",
    "save_train_files()"
   ]
  }
 ],
 "metadata": {
  "kernelspec": {
   "display_name": "Python 3.9.7 ('gen_env')",
   "language": "python",
   "name": "python3"
  },
  "language_info": {
   "codemirror_mode": {
    "name": "ipython",
    "version": 3
   },
   "file_extension": ".py",
   "mimetype": "text/x-python",
   "name": "python",
   "nbconvert_exporter": "python",
   "pygments_lexer": "ipython3",
   "version": "3.9.7"
  },
  "orig_nbformat": 4,
  "vscode": {
   "interpreter": {
    "hash": "6e7bd28e140fee883747864dbac78c5044bc352839fa50964addd9cf2b8a41bc"
   }
  }
 },
 "nbformat": 4,
 "nbformat_minor": 2
}
