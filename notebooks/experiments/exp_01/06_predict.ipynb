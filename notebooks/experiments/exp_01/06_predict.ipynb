{
 "cells": [
  {
   "cell_type": "code",
   "execution_count": 1,
   "metadata": {},
   "outputs": [],
   "source": [
    "import pandas as pd\n",
    "import pickle"
   ]
  },
  {
   "cell_type": "code",
   "execution_count": 2,
   "metadata": {},
   "outputs": [],
   "source": [
    "# Params\n",
    "target = 'Survived'\n",
    "features = \"Sex\"\n",
    "idx = 'PassengerId'\n",
    "\n",
    "\n",
    "# Paths\n",
    "data_predict_path = '/home/walter/Documents/personal_projects/new-titan/data/raw/test.csv'\n",
    "label_enconder_path = \"/home/walter/Documents/personal_projects/new-titan/notebooks/experiments/exp_01/checkpoint/label_encoder_for_prod.pkl\"\n",
    "trained_model_path = '/home/walter/Documents/personal_projects/new-titan/notebooks/experiments/exp_01/artifacts/model.pkl'\n",
    "submit_path = '/home/walter/Documents/personal_projects/new-titan/notebooks/experiments/exp_01/submit/submit.csv'"
   ]
  },
  {
   "cell_type": "code",
   "execution_count": 3,
   "metadata": {},
   "outputs": [],
   "source": [
    "def transform_label_encoder(df):\n",
    "    pkl_file = open(label_enconder_path, 'rb')\n",
    "    encoder = pickle.load(pkl_file) \n",
    "    pkl_file.close()\n",
    "\n",
    "    res = encoder.transform(df)\n",
    "\n",
    "    return res\n",
    "\n",
    "def load_model(path):\n",
    "    pkl_file = open(path, 'rb')\n",
    "    selected_model = pickle.load(pkl_file)\n",
    "    pkl_file.close()\n",
    "\n",
    "    return selected_model"
   ]
  },
  {
   "cell_type": "code",
   "execution_count": 4,
   "metadata": {},
   "outputs": [],
   "source": [
    "# load\n",
    "data_predict = pd.read_csv(data_predict_path)\n",
    "\n",
    "# preprocessing\n",
    "X_test = data_predict[features]\n",
    "label_test = data_predict[idx]\n",
    "X_test = transform_label_encoder(X_test)\n",
    "\n",
    "# predict\n",
    "model = load_model(trained_model_path)\n",
    "y_predict = model.predict(X_test.reshape(-1,1))\n",
    "\n",
    "# build df\n",
    "df_prediction = pd.DataFrame({'PassengerId': label_test, 'Survived': y_predict})\n",
    "df_prediction.to_csv(submit_path, header=True, index=None)"
   ]
  }
 ],
 "metadata": {
  "kernelspec": {
   "display_name": "Python 3.9.7 ('gen_env')",
   "language": "python",
   "name": "python3"
  },
  "language_info": {
   "codemirror_mode": {
    "name": "ipython",
    "version": 3
   },
   "file_extension": ".py",
   "mimetype": "text/x-python",
   "name": "python",
   "nbconvert_exporter": "python",
   "pygments_lexer": "ipython3",
   "version": "3.9.7"
  },
  "orig_nbformat": 4,
  "vscode": {
   "interpreter": {
    "hash": "6e7bd28e140fee883747864dbac78c5044bc352839fa50964addd9cf2b8a41bc"
   }
  }
 },
 "nbformat": 4,
 "nbformat_minor": 2
}
