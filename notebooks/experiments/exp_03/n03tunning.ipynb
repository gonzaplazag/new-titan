{
 "cells": [
  {
   "cell_type": "markdown",
   "metadata": {},
   "source": [
    "# Sobre gradient boosting \n",
    "\n",
    "* ref. alg. gradient boosting:  https://scikit-learn.org/stable/modules/generated/sklearn.ensemble.GradientBoostingClassifier.html\n",
    "\n",
    "Los parámetros clave a optimizar son:\n",
    "\n",
    "1. `n_estimators`: el número de weak learners (árboles) utilizados.\n",
    "   \n",
    "2. `max_depth`: controla la profundidad de cada árbol.\n",
    "   \n",
    "3. `learning_rate`: hiperparámetro entre 0 y 1, que controla overfitting por medio del método *shringkage* (método de regularización. Parámetro que controla la contribución de cada árbol al aprendizaje. La forma adecuada de utilización es setear learning rate a un valor bajo, < 0.1, y controlar `n_estimators` por *early_stopping*.)\n",
    "\n",
    "4. `subsample`: permite controlar la proporción de datos con el que es entrenado un árbol individual. Por default es `1` pero si se parametriza < 1 los árboles se construyen con data aleatoria. Esto ayuda a disminuir la varianza y aumentar sesgo. \n",
    "\n",
    "Parámetros para el early stopping:\n",
    "\n",
    "1. `validation_fraction`: permite especificar una fracción de datos para utilizarlo en el early stopping. Si después de `n_iter_no_change` en `validation_fraction` no mejora `loss_function`, entonces para el proceso.\n",
    "\n",
    "2. `n_iter_no_change`: número de iteraciones a considerar en el boosting después del cual se aplica early stopping."
   ]
  },
  {
   "cell_type": "code",
   "execution_count": 1,
   "metadata": {},
   "outputs": [
    {
     "name": "stdout",
     "output_type": "stream",
     "text": [
      "> Trained imputers.\n",
      "> Applied imputers.\n",
      "> Trained encoders.\n",
      "> Applied encoders.\n",
      "> Applied imputers.\n",
      "> Applied encoders.\n"
     ]
    }
   ],
   "source": [
    "import os\n",
    "import numpy as np\n",
    "import pandas as pd\n",
    "import pickle\n",
    "from ipynb.fs.full.n01preprocessing import load_obj\n",
    "from ipynb.fs.full.n01preprocessing import save_obj\n",
    "from sklearn.model_selection import train_test_split\n",
    "from sklearn.model_selection import RandomizedSearchCV\n",
    "from time import time"
   ]
  },
  {
   "cell_type": "code",
   "execution_count": 2,
   "metadata": {},
   "outputs": [],
   "source": [
    "# Project\n",
    "workdir = '/home/walter/Documents/personal_projects/new-titan'\n",
    "exp_prefix = 'notebooks/experiments/exp_03'\n",
    "data_prefix = 'data'\n",
    "chk_prefix = 'checkpoint'\n",
    "\n",
    "# Params\n",
    "target = 'Survived'\n",
    "features = ['Sex', 'Pclass', 'Age', 'SibSp', 'Parch', 'Fare', 'Embarked']\n",
    "idx = 'Passengerid'\n",
    "\n",
    "# ALGO PARS FOR TUNNING\n",
    "loss_function = ['log_loss'] # función objetivo a optimizar \n",
    "learning_rate = [0.01, 0.03, 0.05, 0.1]\n",
    "n_estimators = [50, 100, 300, 500]\n",
    "max_depth = [2,3,4,5,6]\n",
    "subsample = [0.6, 0.8, 1]\n",
    "validation_fraction = [0.2]\n",
    "n_iter_no_change = [5]\n",
    "\n",
    "# TUNNING CONTROL\n",
    "cv = 5\n",
    "n_iter = 100\n",
    "score = 'accuracy'\n",
    "\n",
    "# SETUP\n",
    "params = {\n",
    "'loss': loss_function,\n",
    "'learning_rate': learning_rate, \n",
    "'n_estimators': n_estimators,\n",
    "'max_depth': max_depth,\n",
    "'subsample': subsample,\n",
    "'validation_fraction': validation_fraction,\n",
    "'n_iter_no_change': n_iter_no_change\n",
    "}"
   ]
  },
  {
   "cell_type": "code",
   "execution_count": 3,
   "metadata": {},
   "outputs": [],
   "source": [
    "def load_data(prefix):\n",
    "    X_train = np.genfromtxt(os.path.join(prefix, 'data_train', 'X_train.csv'), delimiter=',')\n",
    "    y_train = np.genfromtxt(os.path.join(prefix, 'data_train', 'y_train.csv'), delimiter=',').astype('int')\n",
    "    label_train = np.genfromtxt(os.path.join(prefix, 'data_train', 'label_train.csv'), delimiter=',')\n",
    "    X_test = np.genfromtxt(os.path.join(prefix, 'data_test', 'X_test.csv'), delimiter=',')\n",
    "    y_test = np.genfromtxt(os.path.join(prefix, 'data_test', 'y_test.csv'), delimiter=',').astype('int')\n",
    "    label_test = np.genfromtxt(os.path.join(prefix, 'data_test', 'label_test.csv'), delimiter=',')\n",
    "\n",
    "    return X_train, y_train, label_train, X_test, y_test, label_test\n",
    "\n",
    "def report(results, n_top=3):\n",
    "    for i in range(1, n_top + 1):\n",
    "        candidates = np.flatnonzero(results[\"rank_test_score\"] == i)\n",
    "        for candidate in candidates:\n",
    "            print(\"Model with rank: {0}\".format(i))\n",
    "            print(\n",
    "                \"Mean validation score: {0:.3f} (std: {1:.3f})\".format(\n",
    "                    results[\"mean_test_score\"][candidate],\n",
    "                    results[\"std_test_score\"][candidate],\n",
    "                )\n",
    "            )\n",
    "            print(\"Parameters: {0}\".format(results[\"params\"][candidate]))\n",
    "            print(\"\")"
   ]
  },
  {
   "cell_type": "code",
   "execution_count": 4,
   "metadata": {},
   "outputs": [
    {
     "data": {
      "text/html": [
       "<style>#sk-container-id-1 {color: black;background-color: white;}#sk-container-id-1 pre{padding: 0;}#sk-container-id-1 div.sk-toggleable {background-color: white;}#sk-container-id-1 label.sk-toggleable__label {cursor: pointer;display: block;width: 100%;margin-bottom: 0;padding: 0.3em;box-sizing: border-box;text-align: center;}#sk-container-id-1 label.sk-toggleable__label-arrow:before {content: \"▸\";float: left;margin-right: 0.25em;color: #696969;}#sk-container-id-1 label.sk-toggleable__label-arrow:hover:before {color: black;}#sk-container-id-1 div.sk-estimator:hover label.sk-toggleable__label-arrow:before {color: black;}#sk-container-id-1 div.sk-toggleable__content {max-height: 0;max-width: 0;overflow: hidden;text-align: left;background-color: #f0f8ff;}#sk-container-id-1 div.sk-toggleable__content pre {margin: 0.2em;color: black;border-radius: 0.25em;background-color: #f0f8ff;}#sk-container-id-1 input.sk-toggleable__control:checked~div.sk-toggleable__content {max-height: 200px;max-width: 100%;overflow: auto;}#sk-container-id-1 input.sk-toggleable__control:checked~label.sk-toggleable__label-arrow:before {content: \"▾\";}#sk-container-id-1 div.sk-estimator input.sk-toggleable__control:checked~label.sk-toggleable__label {background-color: #d4ebff;}#sk-container-id-1 div.sk-label input.sk-toggleable__control:checked~label.sk-toggleable__label {background-color: #d4ebff;}#sk-container-id-1 input.sk-hidden--visually {border: 0;clip: rect(1px 1px 1px 1px);clip: rect(1px, 1px, 1px, 1px);height: 1px;margin: -1px;overflow: hidden;padding: 0;position: absolute;width: 1px;}#sk-container-id-1 div.sk-estimator {font-family: monospace;background-color: #f0f8ff;border: 1px dotted black;border-radius: 0.25em;box-sizing: border-box;margin-bottom: 0.5em;}#sk-container-id-1 div.sk-estimator:hover {background-color: #d4ebff;}#sk-container-id-1 div.sk-parallel-item::after {content: \"\";width: 100%;border-bottom: 1px solid gray;flex-grow: 1;}#sk-container-id-1 div.sk-label:hover label.sk-toggleable__label {background-color: #d4ebff;}#sk-container-id-1 div.sk-serial::before {content: \"\";position: absolute;border-left: 1px solid gray;box-sizing: border-box;top: 0;bottom: 0;left: 50%;z-index: 0;}#sk-container-id-1 div.sk-serial {display: flex;flex-direction: column;align-items: center;background-color: white;padding-right: 0.2em;padding-left: 0.2em;position: relative;}#sk-container-id-1 div.sk-item {position: relative;z-index: 1;}#sk-container-id-1 div.sk-parallel {display: flex;align-items: stretch;justify-content: center;background-color: white;position: relative;}#sk-container-id-1 div.sk-item::before, #sk-container-id-1 div.sk-parallel-item::before {content: \"\";position: absolute;border-left: 1px solid gray;box-sizing: border-box;top: 0;bottom: 0;left: 50%;z-index: -1;}#sk-container-id-1 div.sk-parallel-item {display: flex;flex-direction: column;z-index: 1;position: relative;background-color: white;}#sk-container-id-1 div.sk-parallel-item:first-child::after {align-self: flex-end;width: 50%;}#sk-container-id-1 div.sk-parallel-item:last-child::after {align-self: flex-start;width: 50%;}#sk-container-id-1 div.sk-parallel-item:only-child::after {width: 0;}#sk-container-id-1 div.sk-dashed-wrapped {border: 1px dashed gray;margin: 0 0.4em 0.5em 0.4em;box-sizing: border-box;padding-bottom: 0.4em;background-color: white;}#sk-container-id-1 div.sk-label label {font-family: monospace;font-weight: bold;display: inline-block;line-height: 1.2em;}#sk-container-id-1 div.sk-label-container {text-align: center;}#sk-container-id-1 div.sk-container {/* jupyter's `normalize.less` sets `[hidden] { display: none; }` but bootstrap.min.css set `[hidden] { display: none !important; }` so we also need the `!important` here to be able to override the default hidden behavior on the sphinx rendered scikit-learn.org. See: https://github.com/scikit-learn/scikit-learn/issues/21755 */display: inline-block !important;position: relative;}#sk-container-id-1 div.sk-text-repr-fallback {display: none;}</style><div id=\"sk-container-id-1\" class=\"sk-top-container\"><div class=\"sk-text-repr-fallback\"><pre>GradientBoostingClassifier()</pre><b>In a Jupyter environment, please rerun this cell to show the HTML representation or trust the notebook. <br />On GitHub, the HTML representation is unable to render, please try loading this page with nbviewer.org.</b></div><div class=\"sk-container\" hidden><div class=\"sk-item\"><div class=\"sk-estimator sk-toggleable\"><input class=\"sk-toggleable__control sk-hidden--visually\" id=\"sk-estimator-id-1\" type=\"checkbox\" checked><label for=\"sk-estimator-id-1\" class=\"sk-toggleable__label sk-toggleable__label-arrow\">GradientBoostingClassifier</label><div class=\"sk-toggleable__content\"><pre>GradientBoostingClassifier()</pre></div></div></div></div></div>"
      ],
      "text/plain": [
       "GradientBoostingClassifier()"
      ]
     },
     "execution_count": 4,
     "metadata": {},
     "output_type": "execute_result"
    }
   ],
   "source": [
    "# load\n",
    "model = load_obj(os.path.join(workdir, exp_prefix, 'artifacts', 'selected_model.pkl'))\n",
    "X, y, label, _, _, _ = load_data(os.path.join(workdir, data_prefix, 'processed'))\n",
    "model"
   ]
  },
  {
   "cell_type": "code",
   "execution_count": 6,
   "metadata": {},
   "outputs": [
    {
     "name": "stdout",
     "output_type": "stream",
     "text": [
      "Tunning took 43.76 seconds for 100 candidate parameter settings.\n",
      "###\n",
      "Model with rank: 1\n",
      "Mean validation score: 0.823 (std: 0.022)\n",
      "Parameters: {'validation_fraction': 0.2, 'subsample': 0.6, 'n_iter_no_change': 5, 'n_estimators': 300, 'max_depth': 3, 'loss': 'log_loss', 'learning_rate': 0.05}\n",
      "\n",
      "Model with rank: 2\n",
      "Mean validation score: 0.823 (std: 0.022)\n",
      "Parameters: {'validation_fraction': 0.2, 'subsample': 0.8, 'n_iter_no_change': 5, 'n_estimators': 50, 'max_depth': 6, 'loss': 'log_loss', 'learning_rate': 0.05}\n",
      "\n",
      "Model with rank: 3\n",
      "Mean validation score: 0.822 (std: 0.028)\n",
      "Parameters: {'validation_fraction': 0.2, 'subsample': 0.6, 'n_iter_no_change': 5, 'n_estimators': 500, 'max_depth': 4, 'loss': 'log_loss', 'learning_rate': 0.05}\n",
      "\n",
      "Model with rank: 3\n",
      "Mean validation score: 0.822 (std: 0.032)\n",
      "Parameters: {'validation_fraction': 0.2, 'subsample': 0.6, 'n_iter_no_change': 5, 'n_estimators': 300, 'max_depth': 4, 'loss': 'log_loss', 'learning_rate': 0.03}\n",
      "\n",
      "Model with rank: 5\n",
      "Mean validation score: 0.822 (std: 0.037)\n",
      "Parameters: {'validation_fraction': 0.2, 'subsample': 0.6, 'n_iter_no_change': 5, 'n_estimators': 50, 'max_depth': 6, 'loss': 'log_loss', 'learning_rate': 0.05}\n",
      "\n",
      "Model with rank: 6\n",
      "Mean validation score: 0.821 (std: 0.018)\n",
      "Parameters: {'validation_fraction': 0.2, 'subsample': 1, 'n_iter_no_change': 5, 'n_estimators': 100, 'max_depth': 5, 'loss': 'log_loss', 'learning_rate': 0.05}\n",
      "\n",
      "Model with rank: 7\n",
      "Mean validation score: 0.821 (std: 0.024)\n",
      "Parameters: {'validation_fraction': 0.2, 'subsample': 0.8, 'n_iter_no_change': 5, 'n_estimators': 500, 'max_depth': 6, 'loss': 'log_loss', 'learning_rate': 0.1}\n",
      "\n",
      "Model with rank: 8\n",
      "Mean validation score: 0.820 (std: 0.031)\n",
      "Parameters: {'validation_fraction': 0.2, 'subsample': 0.8, 'n_iter_no_change': 5, 'n_estimators': 50, 'max_depth': 4, 'loss': 'log_loss', 'learning_rate': 0.01}\n",
      "\n",
      "Model with rank: 9\n",
      "Mean validation score: 0.820 (std: 0.017)\n",
      "Parameters: {'validation_fraction': 0.2, 'subsample': 0.6, 'n_iter_no_change': 5, 'n_estimators': 500, 'max_depth': 3, 'loss': 'log_loss', 'learning_rate': 0.01}\n",
      "\n",
      "Model with rank: 10\n",
      "Mean validation score: 0.820 (std: 0.016)\n",
      "Parameters: {'validation_fraction': 0.2, 'subsample': 1, 'n_iter_no_change': 5, 'n_estimators': 300, 'max_depth': 4, 'loss': 'log_loss', 'learning_rate': 0.01}\n",
      "\n"
     ]
    }
   ],
   "source": [
    "search = RandomizedSearchCV(\n",
    "    estimator=model,\n",
    "    param_distributions=params,\n",
    "    scoring=score,\n",
    "    cv=cv,\n",
    "    n_iter=n_iter,\n",
    "    return_train_score=False,\n",
    "    refit=True\n",
    ")\n",
    "\n",
    "# fit\n",
    "start = time()\n",
    "search.fit(X, y)\n",
    "\n",
    "# save\n",
    "save_obj(search.best_estimator_, os.path.join(workdir, exp_prefix, 'artifacts', 'tunned_model.pkl'))\n",
    "\n",
    "# report\n",
    "print(\n",
    "    \"Tunning took %.2f seconds for %d candidate parameter settings.\"\n",
    "    % (time() - start, len(search.cv_results_[\"params\"]))\n",
    ")\n",
    "\n",
    "print('###')\n",
    "\n",
    "report(search.cv_results_, n_top=10)"
   ]
  },
  {
   "cell_type": "code",
   "execution_count": null,
   "metadata": {},
   "outputs": [],
   "source": []
  }
 ],
 "metadata": {
  "kernelspec": {
   "display_name": "Python 3.10.6 ('new-titan')",
   "language": "python",
   "name": "python3"
  },
  "language_info": {
   "codemirror_mode": {
    "name": "ipython",
    "version": 3
   },
   "file_extension": ".py",
   "mimetype": "text/x-python",
   "name": "python",
   "nbconvert_exporter": "python",
   "pygments_lexer": "ipython3",
   "version": "3.10.6"
  },
  "orig_nbformat": 4,
  "vscode": {
   "interpreter": {
    "hash": "353d4c0fb3a2b2a782e8651e9160ee5f7d61a2371621a296956cde93287d73c8"
   }
  }
 },
 "nbformat": 4,
 "nbformat_minor": 2
}
